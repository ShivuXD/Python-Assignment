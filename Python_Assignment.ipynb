{
  "nbformat": 4,
  "nbformat_minor": 0,
  "metadata": {
    "colab": {
      "provenance": []
    },
    "kernelspec": {
      "name": "python3",
      "display_name": "Python 3"
    },
    "language_info": {
      "name": "python"
    }
  },
  "cells": [
    {
      "cell_type": "code",
      "execution_count": null,
      "metadata": {
        "colab": {
          "base_uri": "https://localhost:8080/"
        },
        "id": "13B1ne11kChE",
        "outputId": "8cc22f5c-65de-41f7-9e12-9f1a5a2f0c75"
      },
      "outputs": [
        {
          "output_type": "stream",
          "name": "stdout",
          "text": [
            "[11, 12, 13, 14]\n",
            "After appending 15 and, 16 we get\n",
            "[11, 12, 13, 14, 15, 16]\n"
          ]
        }
      ],
      "source": [
        "L = [11,12,13,14]\n",
        "print (L)\n",
        "print (\"After appending 15 and, 16 we get\")\n",
        "\n",
        "L.append (15)\n",
        "L.append (16)\n",
        "\n",
        "print(L)"
      ]
    },
    {
      "cell_type": "code",
      "source": [
        "L = [11,12,13,14]\n",
        "print(L)\n",
        "print (\"After removing 11 and, 13 we get\")\n",
        "L.remove(11)\n",
        "L.remove(13)\n",
        "print(L)"
      ],
      "metadata": {
        "colab": {
          "base_uri": "https://localhost:8080/"
        },
        "id": "5z1W0DENk-rc",
        "outputId": "527aa1b3-1960-437c-ad75-b8c66b49a5aa"
      },
      "execution_count": null,
      "outputs": [
        {
          "output_type": "stream",
          "name": "stdout",
          "text": [
            "[11, 12, 13, 14]\n",
            "After removing 11 and, 13 we get\n",
            "[12, 14]\n"
          ]
        }
      ]
    },
    {
      "cell_type": "code",
      "source": [
        "L = [11,13,14,12]\n",
        "print(L)\n",
        "print(\"After sorting the list in ascending order, we get\")\n",
        "L.sort()\n",
        "print(L)"
      ],
      "metadata": {
        "colab": {
          "base_uri": "https://localhost:8080/"
        },
        "id": "n2YFE5gKlM41",
        "outputId": "14a67ff2-12b2-49c3-e93a-dbae8bca20b7"
      },
      "execution_count": null,
      "outputs": [
        {
          "output_type": "stream",
          "name": "stdout",
          "text": [
            "[11, 13, 14, 12]\n",
            "After sorting the list in ascending order, we get\n",
            "[11, 12, 13, 14]\n"
          ]
        }
      ]
    },
    {
      "cell_type": "code",
      "source": [
        "print(\"After sorting the list in descending order, we get\")\n",
        "L.sort(reverse=True)\n",
        "print(L)"
      ],
      "metadata": {
        "colab": {
          "base_uri": "https://localhost:8080/"
        },
        "id": "TJAuYFdxlsqT",
        "outputId": "fe6ed919-7e53-4a3f-d1aa-08b9a641e2a6"
      },
      "execution_count": null,
      "outputs": [
        {
          "output_type": "stream",
          "name": "stdout",
          "text": [
            "After sorting the list in descending order, we get\n",
            "[14, 13, 12, 11]\n"
          ]
        }
      ]
    },
    {
      "cell_type": "code",
      "source": [
        "if 13 in L:\n",
        "  print(\"Element 13 is present in the list\")\n",
        "else:\n",
        "  print(\"Element 13 is NOT present in the list\")"
      ],
      "metadata": {
        "colab": {
          "base_uri": "https://localhost:8080/"
        },
        "id": "cdheLIjNl1lw",
        "outputId": "26dc681b-6720-49d5-a003-1cffeff7c03b"
      },
      "execution_count": null,
      "outputs": [
        {
          "output_type": "stream",
          "name": "stdout",
          "text": [
            "Element 13 is present in the list\n"
          ]
        }
      ]
    },
    {
      "cell_type": "code",
      "source": [
        "L=[11,12,13,14]\n",
        "number = len(L)\n",
        "print(\"The total number of elements in list L is \",number)"
      ],
      "metadata": {
        "colab": {
          "base_uri": "https://localhost:8080/"
        },
        "id": "zuscnFe3mDUb",
        "outputId": "34c78248-52a4-484a-cecf-0a05360400f4"
      },
      "execution_count": null,
      "outputs": [
        {
          "output_type": "stream",
          "name": "stdout",
          "text": [
            "The total number of elements in list L is  4\n"
          ]
        }
      ]
    },
    {
      "cell_type": "code",
      "source": [
        "sum(L)\n",
        "print(sum)"
      ],
      "metadata": {
        "colab": {
          "base_uri": "https://localhost:8080/"
        },
        "id": "D_Gk5HsloaeG",
        "outputId": "40a81bf7-a63f-42ad-ae28-baee39cf96f5"
      },
      "execution_count": null,
      "outputs": [
        {
          "output_type": "stream",
          "name": "stdout",
          "text": [
            "<built-in function sum>\n"
          ]
        }
      ]
    },
    {
      "cell_type": "code",
      "source": [
        "x=sum(L)\n",
        "print(\"The sum of all the elements in the list L is\",x)"
      ],
      "metadata": {
        "colab": {
          "base_uri": "https://localhost:8080/"
        },
        "id": "_b_2brmco1SD",
        "outputId": "47dbd4ed-db7f-4080-8827-3108d911b883"
      },
      "execution_count": null,
      "outputs": [
        {
          "output_type": "stream",
          "name": "stdout",
          "text": [
            "The sum of all the elements in the list L is 50\n"
          ]
        }
      ]
    },
    {
      "cell_type": "code",
      "source": [
        "L = [11,12,13,14]\n",
        "x = sum([n for n in L if n % 2 == 1])\n",
        "print(\"The sum of odd numbers in the list is \",x)"
      ],
      "metadata": {
        "colab": {
          "base_uri": "https://localhost:8080/"
        },
        "id": "DKd1GqRIpCOc",
        "outputId": "2c4e5cc9-756f-4497-b901-774e00a6ccc9"
      },
      "execution_count": null,
      "outputs": [
        {
          "output_type": "stream",
          "name": "stdout",
          "text": [
            "The sum of odd numbers in the list is  24\n"
          ]
        }
      ]
    },
    {
      "cell_type": "code",
      "source": [
        "L = [11,12,13,14]\n",
        "x = sum([n for n in L if n % 2 == 0])\n",
        "print(\"The sum of even numbers in the list is \",x)"
      ],
      "metadata": {
        "colab": {
          "base_uri": "https://localhost:8080/"
        },
        "id": "O2KsCQjYuMhv",
        "outputId": "5e47652b-3df0-47bd-d165-7c9229b08285"
      },
      "execution_count": null,
      "outputs": [
        {
          "output_type": "stream",
          "name": "stdout",
          "text": [
            "The sum of even numbers in the list is  26\n"
          ]
        }
      ]
    },
    {
      "cell_type": "code",
      "source": [
        "\n",
        "def is_prime(number):\n",
        "    if number < 2:\n",
        "        return False\n",
        "    for i in range(2, number):\n",
        "        if number % i == 0:\n",
        "            return False\n",
        "    return True\n",
        "\n",
        "prime_total = sum([n for n in L if is_prime(n)])\n",
        "\n",
        "print(\"Sum of primes =\", prime_total)"
      ],
      "metadata": {
        "colab": {
          "base_uri": "https://localhost:8080/"
        },
        "id": "srp7doeyvktL",
        "outputId": "44c54397-abd9-4eb7-9fca-d52acbcc7825"
      },
      "execution_count": null,
      "outputs": [
        {
          "output_type": "stream",
          "name": "stdout",
          "text": [
            "Sum of primes = 24\n"
          ]
        }
      ]
    },
    {
      "cell_type": "code",
      "source": [
        "print(\"L = [11,12,13,14]\")\n",
        "L.clear()\n",
        "print(\"After clearing the elements, we're left with\")\n",
        "print(L)"
      ],
      "metadata": {
        "colab": {
          "base_uri": "https://localhost:8080/"
        },
        "id": "vuzUE1Hny_TS",
        "outputId": "acb293f8-31d4-4a03-b891-460401bf83d1"
      },
      "execution_count": null,
      "outputs": [
        {
          "output_type": "stream",
          "name": "stdout",
          "text": [
            "L = [11,12,13,14]\n",
            "After clearing the elements, we're left with\n",
            "[]\n"
          ]
        }
      ]
    },
    {
      "cell_type": "code",
      "source": [
        "D = {1:5.6, 2:7.8, 3:6.6, 4:8.7, 5:7.7}\n",
        "print (D)\n",
        "print(\"After adding new element with key 8 and value 8.8\")\n",
        "D[8]=8.8\n",
        "print(D)"
      ],
      "metadata": {
        "id": "A7EZUrgXSOL2",
        "colab": {
          "base_uri": "https://localhost:8080/"
        },
        "outputId": "c50bf37b-d15c-4d98-ee8a-1a5dd4a6c1af"
      },
      "execution_count": null,
      "outputs": [
        {
          "output_type": "stream",
          "name": "stdout",
          "text": [
            "{1: 5.6, 2: 7.8, 3: 6.6, 4: 8.7, 5: 7.7}\n",
            "After adding new element with key 8 and value 8.8\n",
            "{1: 5.6, 2: 7.8, 3: 6.6, 4: 8.7, 5: 7.7, 8: 8.8}\n"
          ]
        }
      ]
    },
    {
      "cell_type": "code",
      "source": [
        "del D[2]\n",
        "print(D)"
      ],
      "metadata": {
        "colab": {
          "base_uri": "https://localhost:8080/"
        },
        "id": "rx-yIqbPmudi",
        "outputId": "d4ab94e0-bd4f-46fe-87db-ad483ef26e3f"
      },
      "execution_count": null,
      "outputs": [
        {
          "output_type": "stream",
          "name": "stdout",
          "text": [
            "{1: 5.6, 3: 6.6, 4: 8.7, 5: 7.7, 8: 8.8}\n"
          ]
        }
      ]
    },
    {
      "cell_type": "code",
      "source": [
        "if 6 in D:\n",
        "  print(\"Key 6 is present.\")\n",
        "else:\n",
        "    print(\"Key 6 is NOT present.\")"
      ],
      "metadata": {
        "colab": {
          "base_uri": "https://localhost:8080/"
        },
        "id": "-8jouzKEnwKW",
        "outputId": "3bbe8318-509c-4646-a2fd-1020da215979"
      },
      "execution_count": null,
      "outputs": [
        {
          "output_type": "stream",
          "name": "stdout",
          "text": [
            "Key 6 is NOT present.\n"
          ]
        }
      ]
    },
    {
      "cell_type": "code",
      "source": [
        "x=sum(D)\n",
        "print(\"The sum all of the no. of elements is\",x)"
      ],
      "metadata": {
        "colab": {
          "base_uri": "https://localhost:8080/"
        },
        "id": "B1qlnECz4Tsc",
        "outputId": "4eeec021-2c54-495d-9b78-1afc5699e542"
      },
      "execution_count": null,
      "outputs": [
        {
          "output_type": "stream",
          "name": "stdout",
          "text": [
            "The sum all of the no. of elements is 21\n"
          ]
        }
      ]
    },
    {
      "cell_type": "code",
      "source": [
        "D[3] = 7.1\n",
        "print(\"After changing the entry\")\n",
        "print(D)"
      ],
      "metadata": {
        "colab": {
          "base_uri": "https://localhost:8080/"
        },
        "id": "TdFpNB6C4gmE",
        "outputId": "f7e30399-0593-49fa-c701-9ffa4c7f1dd3"
      },
      "execution_count": null,
      "outputs": [
        {
          "output_type": "stream",
          "name": "stdout",
          "text": [
            "After changing the entry\n",
            "{1: 5.6, 3: 7.1, 4: 8.7, 5: 7.7, 8: 8.8}\n"
          ]
        }
      ]
    },
    {
      "cell_type": "code",
      "source": [
        "D.clear()\n",
        "print(D)"
      ],
      "metadata": {
        "colab": {
          "base_uri": "https://localhost:8080/"
        },
        "id": "nqMDx_jV9Yqm",
        "outputId": "1a68ee04-6902-4ba7-c868-214e0c639681"
      },
      "execution_count": null,
      "outputs": [
        {
          "output_type": "stream",
          "name": "stdout",
          "text": [
            "{}\n"
          ]
        }
      ]
    },
    {
      "cell_type": "code",
      "source": [
        "S1 = [10,20,30,40,50,60]\n",
        "S2 = [40,50,60,70,80,90]\n",
        "\n",
        "S1.append(55)\n",
        "S1.append(66)\n",
        "print(S1)"
      ],
      "metadata": {
        "colab": {
          "base_uri": "https://localhost:8080/"
        },
        "id": "Lq5OtTTv9qCH",
        "outputId": "689070b7-34a9-4dd4-80ba-aa02bbd3e378"
      },
      "execution_count": null,
      "outputs": [
        {
          "output_type": "stream",
          "name": "stdout",
          "text": [
            "[10, 20, 30, 40, 50, 60, 55, 66]\n"
          ]
        }
      ]
    },
    {
      "cell_type": "code",
      "source": [
        "S1 = [10,20,30,40,50,60]\n",
        "S1.remove(10)\n",
        "S1.remove(30)\n",
        "print(\"After removing 10, 30 from S1, we get \")\n",
        "print(S1)"
      ],
      "metadata": {
        "colab": {
          "base_uri": "https://localhost:8080/"
        },
        "id": "v-IK7YjK9_Bz",
        "outputId": "f4f61c07-4b07-41c6-dfca-0c5f568da6c7"
      },
      "execution_count": null,
      "outputs": [
        {
          "output_type": "stream",
          "name": "stdout",
          "text": [
            "After removing 10, 30 from S1, we get \n",
            "[20, 40, 50, 60]\n"
          ]
        }
      ]
    },
    {
      "cell_type": "code",
      "source": [
        "if 40 in S1:\n",
        "  print(\"Element is present in S1.\")\n",
        "else:\n",
        "  print(\"Element is NOT present.\")"
      ],
      "metadata": {
        "colab": {
          "base_uri": "https://localhost:8080/"
        },
        "id": "r3goKu2x-Mai",
        "outputId": "5d3409c2-466f-49e0-f270-fd0c1c96092b"
      },
      "execution_count": null,
      "outputs": [
        {
          "output_type": "stream",
          "name": "stdout",
          "text": [
            "Element is present in S1.\n"
          ]
        }
      ]
    },
    {
      "cell_type": "code",
      "source": [
        "S1 = [10,20,30,40,50,60]\n",
        "S2 = [40,50,60,70,80,90]\n",
        "\n",
        "S = set()\n",
        "\n",
        "for item in S1:\n",
        "  S.add(item)\n",
        "\n",
        "  for item in S2:\n",
        "    S.add(item)\n",
        "\n",
        "    print(\"Union of S1 and S2 = \",S)"
      ],
      "metadata": {
        "colab": {
          "base_uri": "https://localhost:8080/"
        },
        "id": "qW4ZPmh5AFiE",
        "outputId": "da3f5896-ac65-4a77-cdf2-0ac227428a8c"
      },
      "execution_count": null,
      "outputs": [
        {
          "output_type": "stream",
          "name": "stdout",
          "text": [
            "Union of S1 and S2 =  {40, 10}\n",
            "Union of S1 and S2 =  {40, 10, 50}\n",
            "Union of S1 and S2 =  {40, 10, 50, 60}\n",
            "Union of S1 and S2 =  {70, 40, 10, 50, 60}\n",
            "Union of S1 and S2 =  {70, 40, 10, 80, 50, 60}\n",
            "Union of S1 and S2 =  {70, 40, 10, 80, 50, 90, 60}\n",
            "Union of S1 and S2 =  {70, 40, 10, 80, 50, 20, 90, 60}\n",
            "Union of S1 and S2 =  {70, 40, 10, 80, 50, 20, 90, 60}\n",
            "Union of S1 and S2 =  {70, 40, 10, 80, 50, 20, 90, 60}\n",
            "Union of S1 and S2 =  {70, 40, 10, 80, 50, 20, 90, 60}\n",
            "Union of S1 and S2 =  {70, 40, 10, 80, 50, 20, 90, 60}\n",
            "Union of S1 and S2 =  {70, 40, 10, 80, 50, 20, 90, 60}\n",
            "Union of S1 and S2 =  {70, 40, 10, 80, 50, 20, 90, 60, 30}\n",
            "Union of S1 and S2 =  {70, 40, 10, 80, 50, 20, 90, 60, 30}\n",
            "Union of S1 and S2 =  {70, 40, 10, 80, 50, 20, 90, 60, 30}\n",
            "Union of S1 and S2 =  {70, 40, 10, 80, 50, 20, 90, 60, 30}\n",
            "Union of S1 and S2 =  {70, 40, 10, 80, 50, 20, 90, 60, 30}\n",
            "Union of S1 and S2 =  {70, 40, 10, 80, 50, 20, 90, 60, 30}\n",
            "Union of S1 and S2 =  {70, 40, 10, 80, 50, 20, 90, 60, 30}\n",
            "Union of S1 and S2 =  {70, 40, 10, 80, 50, 20, 90, 60, 30}\n",
            "Union of S1 and S2 =  {70, 40, 10, 80, 50, 20, 90, 60, 30}\n",
            "Union of S1 and S2 =  {70, 40, 10, 80, 50, 20, 90, 60, 30}\n",
            "Union of S1 and S2 =  {70, 40, 10, 80, 50, 20, 90, 60, 30}\n",
            "Union of S1 and S2 =  {70, 40, 10, 80, 50, 20, 90, 60, 30}\n",
            "Union of S1 and S2 =  {70, 40, 10, 80, 50, 20, 90, 60, 30}\n",
            "Union of S1 and S2 =  {70, 40, 10, 80, 50, 20, 90, 60, 30}\n",
            "Union of S1 and S2 =  {70, 40, 10, 80, 50, 20, 90, 60, 30}\n",
            "Union of S1 and S2 =  {70, 40, 10, 80, 50, 20, 90, 60, 30}\n",
            "Union of S1 and S2 =  {70, 40, 10, 80, 50, 20, 90, 60, 30}\n",
            "Union of S1 and S2 =  {70, 40, 10, 80, 50, 20, 90, 60, 30}\n",
            "Union of S1 and S2 =  {70, 40, 10, 80, 50, 20, 90, 60, 30}\n",
            "Union of S1 and S2 =  {70, 40, 10, 80, 50, 20, 90, 60, 30}\n",
            "Union of S1 and S2 =  {70, 40, 10, 80, 50, 20, 90, 60, 30}\n",
            "Union of S1 and S2 =  {70, 40, 10, 80, 50, 20, 90, 60, 30}\n",
            "Union of S1 and S2 =  {70, 40, 10, 80, 50, 20, 90, 60, 30}\n",
            "Union of S1 and S2 =  {70, 40, 10, 80, 50, 20, 90, 60, 30}\n"
          ]
        }
      ]
    },
    {
      "cell_type": "code",
      "source": [
        "x = set()\n",
        "\n",
        "for item in S1:\n",
        "  if item in S2:\n",
        "    x.add(item)\n",
        "\n",
        "    print(\"Intersection of S1 and S2 = \", x)"
      ],
      "metadata": {
        "colab": {
          "base_uri": "https://localhost:8080/"
        },
        "id": "lwdB96UyBA3c",
        "outputId": "d9ff2f73-2aab-4723-9413-e5287bf7537d"
      },
      "execution_count": null,
      "outputs": [
        {
          "output_type": "stream",
          "name": "stdout",
          "text": [
            "Intersection of S1 and S2 =  {40}\n",
            "Intersection of S1 and S2 =  {40, 50}\n",
            "Intersection of S1 and S2 =  {40, 50, 60}\n"
          ]
        }
      ]
    },
    {
      "cell_type": "code",
      "source": [
        "y = set()\n",
        "\n",
        "for item in S1:\n",
        "  if item not in S2:\n",
        "    y.add(item)\n",
        "\n",
        "    print(\"S1 - S2 gives \", y)"
      ],
      "metadata": {
        "colab": {
          "base_uri": "https://localhost:8080/"
        },
        "id": "CV7XibI6Bio1",
        "outputId": "8ba61f78-fe4b-4697-cd31-f26882999e5f"
      },
      "execution_count": null,
      "outputs": [
        {
          "output_type": "stream",
          "name": "stdout",
          "text": [
            "S1 - S2 gives  {10}\n",
            "S1 - S2 gives  {10, 20}\n",
            "S1 - S2 gives  {10, 20, 30}\n"
          ]
        }
      ]
    },
    {
      "cell_type": "code",
      "source": [
        "import random\n",
        "import string\n",
        "\n",
        "for _ in range(100):\n",
        "    length = random.randint(6, 8)\n",
        "    rand_string = ''.join(random.choices(string.ascii_letters, k=length))\n",
        "    print(rand_string)"
      ],
      "metadata": {
        "colab": {
          "base_uri": "https://localhost:8080/"
        },
        "id": "lkwjucQyB9uW",
        "outputId": "0eee879d-f516-4fd8-ad34-ef20e0e4954b"
      },
      "execution_count": null,
      "outputs": [
        {
          "output_type": "stream",
          "name": "stdout",
          "text": [
            "HyJdNlIb\n",
            "TGsemSFX\n",
            "PISMzl\n",
            "EuVrayg\n",
            "qsmkVSWL\n",
            "zluLDkPD\n",
            "rjMiBPM\n",
            "PyGEPBt\n",
            "wgfGKjqq\n",
            "CiZcFcz\n",
            "mOxFuH\n",
            "BvIaMrI\n",
            "rZKKCXCH\n",
            "NocCHV\n",
            "foMvJLH\n",
            "QDLVOPpQ\n",
            "pFBresGk\n",
            "ufxloP\n",
            "IycSwgDG\n",
            "ZBMjNPv\n",
            "FYjIXcy\n",
            "QyvHfl\n",
            "VZAuFDw\n",
            "wiRUndw\n",
            "dhjTdYIB\n",
            "esMFLX\n",
            "zdmrrMd\n",
            "WdNQQD\n",
            "ioKnAH\n",
            "mviZosQ\n",
            "hmFvYZ\n",
            "LnZlDQIm\n",
            "wfaejN\n",
            "jnOtmYC\n",
            "RiOFbUH\n",
            "hnSdieBk\n",
            "XzTfNvU\n",
            "TuTVlY\n",
            "BVQXFmf\n",
            "EFwxez\n",
            "YWRLvCg\n",
            "uWgtqdpu\n",
            "SttWbKWC\n",
            "tcIOieL\n",
            "xFeykqk\n",
            "fabolzBe\n",
            "mumvUYGV\n",
            "forwKuV\n",
            "BvFPKK\n",
            "WHcFnNv\n",
            "CmUwLiTc\n",
            "fLjDxpl\n",
            "xWbqTF\n",
            "HkcHxTPS\n",
            "gEAzuEef\n",
            "GIEzyAdT\n",
            "cPUJzN\n",
            "AoeEizYT\n",
            "eAxtxv\n",
            "WNAOTj\n",
            "EyNjbEMF\n",
            "UGPQRM\n",
            "nylqlvyl\n",
            "qmXQAW\n",
            "bQghNct\n",
            "mPgnDr\n",
            "oJsIlO\n",
            "szUgiCXZ\n",
            "mOIdjQOC\n",
            "GKbooC\n",
            "fgAhGjSX\n",
            "aFybLFcv\n",
            "EynKjz\n",
            "qfbUAPjf\n",
            "KMEhjA\n",
            "BEIkkl\n",
            "tGpBYIk\n",
            "zrkkYL\n",
            "cWHBedd\n",
            "BtJkLnhy\n",
            "zzRCQX\n",
            "gDMJjx\n",
            "XpQPAf\n",
            "EeKmUoC\n",
            "UmxzUp\n",
            "IGQeKpwi\n",
            "Knmfqi\n",
            "vtvjhCEo\n",
            "PzWZpB\n",
            "eadyQY\n",
            "CYRuRg\n",
            "wOlTJGs\n",
            "EmtIZsx\n",
            "dAHqoPZT\n",
            "qFahKX\n",
            "QoVJRiZf\n",
            "priDpEM\n",
            "Rxugilcl\n",
            "bXidUiD\n",
            "jiQyZF\n"
          ]
        }
      ]
    },
    {
      "cell_type": "code",
      "source": [
        "for num in range(600, 800):\n",
        "    if num > 1:\n",
        "        for i in range(2, int(num**0.5) + 1):\n",
        "            if num % i == 0:\n",
        "                break\n",
        "\n",
        "        else:\n",
        "            print(num)\n"
      ],
      "metadata": {
        "colab": {
          "base_uri": "https://localhost:8080/",
          "height": 106
        },
        "id": "zgnbyaFgF2C8",
        "outputId": "eb1f0e4e-bd0e-4f85-c316-95c9246aa81e"
      },
      "execution_count": null,
      "outputs": [
        {
          "output_type": "error",
          "ename": "IndentationError",
          "evalue": "unindent does not match any outer indentation level (<tokenize>, line 7)",
          "traceback": [
            "\u001b[0;36m  File \u001b[0;32m\"<tokenize>\"\u001b[0;36m, line \u001b[0;32m7\u001b[0m\n\u001b[0;31m    else:\u001b[0m\n\u001b[0m    ^\u001b[0m\n\u001b[0;31mIndentationError\u001b[0m\u001b[0;31m:\u001b[0m unindent does not match any outer indentation level\n"
          ]
        }
      ]
    },
    {
      "cell_type": "code",
      "source": [],
      "metadata": {
        "id": "VJVThLOoL8sW"
      },
      "execution_count": null,
      "outputs": []
    }
  ]
}